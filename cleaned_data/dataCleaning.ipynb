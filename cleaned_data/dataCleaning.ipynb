{
 "cells": [
  {
   "cell_type": "code",
   "execution_count": 1,
   "id": "698c0a24",
   "metadata": {},
   "outputs": [],
   "source": [
    "import pandas as pd"
   ]
  },
  {
   "cell_type": "code",
   "execution_count": 2,
   "id": "998424b0",
   "metadata": {},
   "outputs": [],
   "source": [
    "contentDF = pd.read_csv('./Raw Data/Content.csv', index_col=0)\n",
    "reactionsDF = pd.read_csv('./Raw Data/Reactions.csv', index_col=0)\n",
    "reactionTypesDF = pd.read_csv('./Raw Data/ReactionTypes.csv', index_col=0)"
   ]
  },
  {
   "cell_type": "markdown",
   "id": "1703e8f3",
   "metadata": {},
   "source": [
    "# Content DATA"
   ]
  },
  {
   "cell_type": "code",
   "execution_count": 3,
   "id": "a2aea069",
   "metadata": {
    "scrolled": false
   },
   "outputs": [
    {
     "name": "stdout",
     "output_type": "stream",
     "text": [
      "<class 'pandas.core.frame.DataFrame'>\n",
      "Index: 1000 entries, 0 to 999\n",
      "Data columns (total 5 columns):\n",
      " #   Column      Non-Null Count  Dtype \n",
      "---  ------      --------------  ----- \n",
      " 0   Content ID  1000 non-null   object\n",
      " 1   User ID     1000 non-null   object\n",
      " 2   Type        1000 non-null   object\n",
      " 3   Category    1000 non-null   object\n",
      " 4   URL         801 non-null    object\n",
      "dtypes: object(5)\n",
      "memory usage: 46.9+ KB\n"
     ]
    }
   ],
   "source": [
    "reactionsDF.info()"
   ]
  },
  {
   "cell_type": "code",
   "execution_count": 4,
   "id": "04869392",
   "metadata": {
    "scrolled": true
   },
   "outputs": [
    {
     "data": {
      "text/plain": [
       "Content ID      0\n",
       "User ID         0\n",
       "Type            0\n",
       "Category        0\n",
       "URL           199\n",
       "dtype: int64"
      ]
     },
     "execution_count": 4,
     "metadata": {},
     "output_type": "execute_result"
    }
   ],
   "source": [
    "contentDF.isna().sum()"
   ]
  },
  {
   "cell_type": "code",
   "execution_count": 5,
   "id": "32433be7",
   "metadata": {
    "scrolled": false
   },
   "outputs": [],
   "source": [
    "contentDF = contentDF.drop(['User ID','URL'], axis=1)"
   ]
  },
  {
   "cell_type": "code",
   "execution_count": 6,
   "id": "5c4bc09d",
   "metadata": {},
   "outputs": [
    {
     "name": "stdout",
     "output_type": "stream",
     "text": [
      "<class 'pandas.core.frame.DataFrame'>\n",
      "Index: 1000 entries, 0 to 999\n",
      "Data columns (total 3 columns):\n",
      " #   Column      Non-Null Count  Dtype \n",
      "---  ------      --------------  ----- \n",
      " 0   Content ID  1000 non-null   object\n",
      " 1   Type        1000 non-null   object\n",
      " 2   Category    1000 non-null   object\n",
      "dtypes: object(3)\n",
      "memory usage: 31.2+ KB\n"
     ]
    }
   ],
   "source": [
    "contentDF.info()"
   ]
  },
  {
   "cell_type": "code",
   "execution_count": 7,
   "id": "4587c999",
   "metadata": {},
   "outputs": [
    {
     "data": {
      "text/plain": [
       "array(['Studying', 'healthy eating', 'technology', 'food', 'cooking',\n",
       "       'dogs', 'soccer', 'public speaking', 'science', 'tennis', 'travel',\n",
       "       'fitness', 'education', 'studying', 'veganism', 'Animals',\n",
       "       'animals', 'culture', '\"culture\"', 'Fitness', '\"studying\"',\n",
       "       'Veganism', '\"animals\"', 'Travel', '\"soccer\"', 'Education',\n",
       "       '\"dogs\"', 'Technology', 'Soccer', '\"tennis\"', 'Culture', '\"food\"',\n",
       "       'Food', '\"technology\"', 'Healthy Eating', '\"cooking\"', 'Science',\n",
       "       '\"public speaking\"', '\"veganism\"', 'Public Speaking', '\"science\"'],\n",
       "      dtype=object)"
      ]
     },
     "execution_count": 7,
     "metadata": {},
     "output_type": "execute_result"
    }
   ],
   "source": [
    "contentDF['Category'].unique()"
   ]
  },
  {
   "cell_type": "code",
   "execution_count": 8,
   "id": "45d6b875",
   "metadata": {},
   "outputs": [],
   "source": [
    "contentDF['Category'] = contentDF['Category'].str.lower()"
   ]
  },
  {
   "cell_type": "code",
   "execution_count": 9,
   "id": "39d6d7f9",
   "metadata": {
    "scrolled": false
   },
   "outputs": [
    {
     "data": {
      "text/plain": [
       "array(['studying', 'healthy eating', 'technology', 'food', 'cooking',\n",
       "       'dogs', 'soccer', 'public speaking', 'science', 'tennis', 'travel',\n",
       "       'fitness', 'education', 'veganism', 'animals', 'culture',\n",
       "       '\"culture\"', '\"studying\"', '\"animals\"', '\"soccer\"', '\"dogs\"',\n",
       "       '\"tennis\"', '\"food\"', '\"technology\"', '\"cooking\"',\n",
       "       '\"public speaking\"', '\"veganism\"', '\"science\"'], dtype=object)"
      ]
     },
     "execution_count": 9,
     "metadata": {},
     "output_type": "execute_result"
    }
   ],
   "source": [
    "contentDF['Category'].unique()"
   ]
  },
  {
   "cell_type": "code",
   "execution_count": 10,
   "id": "fdd77948",
   "metadata": {},
   "outputs": [],
   "source": [
    "contentDF.rename(columns = {'Type':'Content Type'}, inplace = True)"
   ]
  },
  {
   "cell_type": "code",
   "execution_count": 11,
   "id": "02bbc29b",
   "metadata": {},
   "outputs": [
    {
     "name": "stdout",
     "output_type": "stream",
     "text": [
      "<class 'pandas.core.frame.DataFrame'>\n",
      "Index: 1000 entries, 0 to 999\n",
      "Data columns (total 3 columns):\n",
      " #   Column        Non-Null Count  Dtype \n",
      "---  ------        --------------  ----- \n",
      " 0   Content ID    1000 non-null   object\n",
      " 1   Content Type  1000 non-null   object\n",
      " 2   Category      1000 non-null   object\n",
      "dtypes: object(3)\n",
      "memory usage: 31.2+ KB\n"
     ]
    }
   ],
   "source": [
    "contentDF.info()"
   ]
  },
  {
   "cell_type": "code",
   "execution_count": 12,
   "id": "dc55a54b",
   "metadata": {},
   "outputs": [],
   "source": [
    "contentDF.to_csv('./Cleaned Data/contentCLEANED.csv', index=False)"
   ]
  },
  {
   "cell_type": "markdown",
   "id": "c4ad89ad",
   "metadata": {},
   "source": [
    "# Reactions DATA"
   ]
  },
  {
   "cell_type": "code",
   "execution_count": 13,
   "id": "e877dab4",
   "metadata": {
    "scrolled": false
   },
   "outputs": [
    {
     "name": "stdout",
     "output_type": "stream",
     "text": [
      "<class 'pandas.core.frame.DataFrame'>\n",
      "Index: 25553 entries, 0 to 25552\n",
      "Data columns (total 4 columns):\n",
      " #   Column      Non-Null Count  Dtype \n",
      "---  ------      --------------  ----- \n",
      " 0   Content ID  25553 non-null  object\n",
      " 1   User ID     22534 non-null  object\n",
      " 2   Type        24573 non-null  object\n",
      " 3   Datetime    25553 non-null  object\n",
      "dtypes: object(4)\n",
      "memory usage: 998.2+ KB\n"
     ]
    }
   ],
   "source": [
    "reactionsDF.info()"
   ]
  },
  {
   "cell_type": "code",
   "execution_count": 14,
   "id": "9caacba5",
   "metadata": {},
   "outputs": [
    {
     "data": {
      "text/plain": [
       "Content ID       0\n",
       "User ID       3019\n",
       "Type           980\n",
       "Datetime         0\n",
       "dtype: int64"
      ]
     },
     "execution_count": 14,
     "metadata": {},
     "output_type": "execute_result"
    }
   ],
   "source": [
    "reactionsDF.isna().sum()"
   ]
  },
  {
   "cell_type": "code",
   "execution_count": 15,
   "id": "1ff67f20",
   "metadata": {},
   "outputs": [],
   "source": [
    "reactionsDF = reactionsDF.drop(['User ID'], axis=1)"
   ]
  },
  {
   "cell_type": "code",
   "execution_count": 16,
   "id": "134d6229",
   "metadata": {},
   "outputs": [],
   "source": [
    "reactionsDF = reactionsDF.dropna(axis=0)"
   ]
  },
  {
   "cell_type": "code",
   "execution_count": 17,
   "id": "e39b3567",
   "metadata": {
    "scrolled": true
   },
   "outputs": [
    {
     "data": {
      "text/plain": [
       "Content ID    0\n",
       "Type          0\n",
       "Datetime      0\n",
       "dtype: int64"
      ]
     },
     "execution_count": 17,
     "metadata": {},
     "output_type": "execute_result"
    }
   ],
   "source": [
    "reactionsDF.isna().sum()"
   ]
  },
  {
   "cell_type": "code",
   "execution_count": 18,
   "id": "951a9cdb",
   "metadata": {
    "scrolled": false
   },
   "outputs": [
    {
     "name": "stdout",
     "output_type": "stream",
     "text": [
      "<class 'pandas.core.frame.DataFrame'>\n",
      "Index: 24573 entries, 1 to 25552\n",
      "Data columns (total 3 columns):\n",
      " #   Column      Non-Null Count  Dtype \n",
      "---  ------      --------------  ----- \n",
      " 0   Content ID  24573 non-null  object\n",
      " 1   Type        24573 non-null  object\n",
      " 2   Datetime    24573 non-null  object\n",
      "dtypes: object(3)\n",
      "memory usage: 767.9+ KB\n"
     ]
    }
   ],
   "source": [
    "reactionsDF.info()"
   ]
  },
  {
   "cell_type": "code",
   "execution_count": 19,
   "id": "ad4acf6c",
   "metadata": {},
   "outputs": [],
   "source": [
    "reactionsDF.rename(columns = {'Type':'Reaction Type'}, inplace = True)"
   ]
  },
  {
   "cell_type": "code",
   "execution_count": 20,
   "id": "dca5f354",
   "metadata": {},
   "outputs": [],
   "source": [
    "reactionsDF.to_csv('./Cleaned Data/reactionsCLEANED.csv', index=False)"
   ]
  },
  {
   "cell_type": "markdown",
   "id": "ab1b8713",
   "metadata": {},
   "source": [
    "# Reactiontype DATA"
   ]
  },
  {
   "cell_type": "code",
   "execution_count": 21,
   "id": "70a27748",
   "metadata": {},
   "outputs": [
    {
     "data": {
      "text/plain": [
       "Type         0\n",
       "Sentiment    0\n",
       "Score        0\n",
       "dtype: int64"
      ]
     },
     "execution_count": 21,
     "metadata": {},
     "output_type": "execute_result"
    }
   ],
   "source": [
    "reactionTypesDF.isnull().sum()"
   ]
  },
  {
   "cell_type": "code",
   "execution_count": 22,
   "id": "800c01c1",
   "metadata": {
    "collapsed": true
   },
   "outputs": [
    {
     "data": {
      "text/html": [
       "<div>\n",
       "<style scoped>\n",
       "    .dataframe tbody tr th:only-of-type {\n",
       "        vertical-align: middle;\n",
       "    }\n",
       "\n",
       "    .dataframe tbody tr th {\n",
       "        vertical-align: top;\n",
       "    }\n",
       "\n",
       "    .dataframe thead th {\n",
       "        text-align: right;\n",
       "    }\n",
       "</style>\n",
       "<table border=\"1\" class=\"dataframe\">\n",
       "  <thead>\n",
       "    <tr style=\"text-align: right;\">\n",
       "      <th></th>\n",
       "      <th>Type</th>\n",
       "      <th>Sentiment</th>\n",
       "      <th>Score</th>\n",
       "    </tr>\n",
       "  </thead>\n",
       "  <tbody>\n",
       "    <tr>\n",
       "      <th>7</th>\n",
       "      <td>super love</td>\n",
       "      <td>positive</td>\n",
       "      <td>75</td>\n",
       "    </tr>\n",
       "    <tr>\n",
       "      <th>9</th>\n",
       "      <td>adore</td>\n",
       "      <td>positive</td>\n",
       "      <td>72</td>\n",
       "    </tr>\n",
       "    <tr>\n",
       "      <th>1</th>\n",
       "      <td>want</td>\n",
       "      <td>positive</td>\n",
       "      <td>70</td>\n",
       "    </tr>\n",
       "    <tr>\n",
       "      <th>8</th>\n",
       "      <td>cherish</td>\n",
       "      <td>positive</td>\n",
       "      <td>70</td>\n",
       "    </tr>\n",
       "    <tr>\n",
       "      <th>6</th>\n",
       "      <td>love</td>\n",
       "      <td>positive</td>\n",
       "      <td>65</td>\n",
       "    </tr>\n",
       "    <tr>\n",
       "      <th>0</th>\n",
       "      <td>heart</td>\n",
       "      <td>positive</td>\n",
       "      <td>60</td>\n",
       "    </tr>\n",
       "    <tr>\n",
       "      <th>10</th>\n",
       "      <td>like</td>\n",
       "      <td>positive</td>\n",
       "      <td>50</td>\n",
       "    </tr>\n",
       "    <tr>\n",
       "      <th>12</th>\n",
       "      <td>intrigued</td>\n",
       "      <td>positive</td>\n",
       "      <td>45</td>\n",
       "    </tr>\n",
       "    <tr>\n",
       "      <th>13</th>\n",
       "      <td>peeking</td>\n",
       "      <td>neutral</td>\n",
       "      <td>35</td>\n",
       "    </tr>\n",
       "    <tr>\n",
       "      <th>4</th>\n",
       "      <td>interested</td>\n",
       "      <td>positive</td>\n",
       "      <td>30</td>\n",
       "    </tr>\n",
       "    <tr>\n",
       "      <th>5</th>\n",
       "      <td>indifferent</td>\n",
       "      <td>neutral</td>\n",
       "      <td>20</td>\n",
       "    </tr>\n",
       "    <tr>\n",
       "      <th>14</th>\n",
       "      <td>scared</td>\n",
       "      <td>negative</td>\n",
       "      <td>15</td>\n",
       "    </tr>\n",
       "    <tr>\n",
       "      <th>15</th>\n",
       "      <td>worried</td>\n",
       "      <td>negative</td>\n",
       "      <td>12</td>\n",
       "    </tr>\n",
       "    <tr>\n",
       "      <th>11</th>\n",
       "      <td>dislike</td>\n",
       "      <td>negative</td>\n",
       "      <td>10</td>\n",
       "    </tr>\n",
       "    <tr>\n",
       "      <th>3</th>\n",
       "      <td>hate</td>\n",
       "      <td>negative</td>\n",
       "      <td>5</td>\n",
       "    </tr>\n",
       "    <tr>\n",
       "      <th>2</th>\n",
       "      <td>disgust</td>\n",
       "      <td>negative</td>\n",
       "      <td>0</td>\n",
       "    </tr>\n",
       "  </tbody>\n",
       "</table>\n",
       "</div>"
      ],
      "text/plain": [
       "           Type Sentiment  Score\n",
       "7    super love  positive     75\n",
       "9         adore  positive     72\n",
       "1          want  positive     70\n",
       "8       cherish  positive     70\n",
       "6          love  positive     65\n",
       "0         heart  positive     60\n",
       "10         like  positive     50\n",
       "12    intrigued  positive     45\n",
       "13      peeking   neutral     35\n",
       "4    interested  positive     30\n",
       "5   indifferent   neutral     20\n",
       "14       scared  negative     15\n",
       "15      worried  negative     12\n",
       "11      dislike  negative     10\n",
       "3          hate  negative      5\n",
       "2       disgust  negative      0"
      ]
     },
     "execution_count": 22,
     "metadata": {},
     "output_type": "execute_result"
    }
   ],
   "source": [
    "reactionTypesDF.sort_values(by=['Score'], ascending=False)"
   ]
  },
  {
   "cell_type": "code",
   "execution_count": 29,
   "id": "987b1822",
   "metadata": {},
   "outputs": [],
   "source": [
    "reactionTypesDF.rename(columns = {'Type':'Reaction Type'}, inplace = True)"
   ]
  },
  {
   "cell_type": "markdown",
   "id": "92792d8b",
   "metadata": {},
   "source": [
    "# Merging all data files together"
   ]
  },
  {
   "cell_type": "code",
   "execution_count": 27,
   "id": "6676fe5b",
   "metadata": {},
   "outputs": [],
   "source": [
    "mergerConRea = reactionsDF.merge(contentDF, on='Content ID')"
   ]
  },
  {
   "cell_type": "code",
   "execution_count": 33,
   "id": "837de9e4",
   "metadata": {},
   "outputs": [],
   "source": [
    "mergerConRea.to_csv('./Cleaned Data/mergerConRea.csv', index=False)"
   ]
  },
  {
   "cell_type": "code",
   "execution_count": 30,
   "id": "31401645",
   "metadata": {},
   "outputs": [],
   "source": [
    "mergeDf = mergerConRea.merge(reactionTypesDF, on='Reaction Type')"
   ]
  },
  {
   "cell_type": "code",
   "execution_count": 32,
   "id": "5a4de270",
   "metadata": {},
   "outputs": [],
   "source": [
    "mergeDf.to_csv('./Cleaned Data/mergeDf.csv', index=False)"
   ]
  },
  {
   "cell_type": "code",
   "execution_count": 2,
   "id": "3fb2f0b6",
   "metadata": {},
   "outputs": [],
   "source": [
    "mergeDf = pd.read_csv(\"./Cleaned Data/mergeDf.csv\")"
   ]
  },
  {
   "cell_type": "code",
   "execution_count": 38,
   "id": "25a962fd",
   "metadata": {},
   "outputs": [],
   "source": [
    "sumDf = mergeDf.groupby('Category')['Score'].sum()"
   ]
  },
  {
   "cell_type": "code",
   "execution_count": 41,
   "id": "0137e3c1",
   "metadata": {},
   "outputs": [],
   "source": [
    "sumDf = pd.DataFrame(sumDf)"
   ]
  },
  {
   "cell_type": "code",
   "execution_count": 42,
   "id": "dc97bc90",
   "metadata": {},
   "outputs": [
    {
     "data": {
      "text/html": [
       "<div>\n",
       "<style scoped>\n",
       "    .dataframe tbody tr th:only-of-type {\n",
       "        vertical-align: middle;\n",
       "    }\n",
       "\n",
       "    .dataframe tbody tr th {\n",
       "        vertical-align: top;\n",
       "    }\n",
       "\n",
       "    .dataframe thead th {\n",
       "        text-align: right;\n",
       "    }\n",
       "</style>\n",
       "<table border=\"1\" class=\"dataframe\">\n",
       "  <thead>\n",
       "    <tr style=\"text-align: right;\">\n",
       "      <th></th>\n",
       "      <th>Score</th>\n",
       "    </tr>\n",
       "    <tr>\n",
       "      <th>Category</th>\n",
       "      <th></th>\n",
       "    </tr>\n",
       "  </thead>\n",
       "  <tbody>\n",
       "    <tr>\n",
       "      <th>animals</th>\n",
       "      <td>74965</td>\n",
       "    </tr>\n",
       "    <tr>\n",
       "      <th>science</th>\n",
       "      <td>71168</td>\n",
       "    </tr>\n",
       "    <tr>\n",
       "      <th>healthy eating</th>\n",
       "      <td>69339</td>\n",
       "    </tr>\n",
       "    <tr>\n",
       "      <th>technology</th>\n",
       "      <td>68738</td>\n",
       "    </tr>\n",
       "    <tr>\n",
       "      <th>food</th>\n",
       "      <td>66676</td>\n",
       "    </tr>\n",
       "    <tr>\n",
       "      <th>culture</th>\n",
       "      <td>66579</td>\n",
       "    </tr>\n",
       "    <tr>\n",
       "      <th>travel</th>\n",
       "      <td>64880</td>\n",
       "    </tr>\n",
       "    <tr>\n",
       "      <th>cooking</th>\n",
       "      <td>64756</td>\n",
       "    </tr>\n",
       "    <tr>\n",
       "      <th>soccer</th>\n",
       "      <td>57783</td>\n",
       "    </tr>\n",
       "    <tr>\n",
       "      <th>education</th>\n",
       "      <td>57436</td>\n",
       "    </tr>\n",
       "    <tr>\n",
       "      <th>fitness</th>\n",
       "      <td>55323</td>\n",
       "    </tr>\n",
       "    <tr>\n",
       "      <th>studying</th>\n",
       "      <td>54269</td>\n",
       "    </tr>\n",
       "    <tr>\n",
       "      <th>dogs</th>\n",
       "      <td>52511</td>\n",
       "    </tr>\n",
       "    <tr>\n",
       "      <th>tennis</th>\n",
       "      <td>50339</td>\n",
       "    </tr>\n",
       "    <tr>\n",
       "      <th>veganism</th>\n",
       "      <td>49619</td>\n",
       "    </tr>\n",
       "    <tr>\n",
       "      <th>public speaking</th>\n",
       "      <td>49264</td>\n",
       "    </tr>\n",
       "  </tbody>\n",
       "</table>\n",
       "</div>"
      ],
      "text/plain": [
       "                 Score\n",
       "Category              \n",
       "animals          74965\n",
       "science          71168\n",
       "healthy eating   69339\n",
       "technology       68738\n",
       "food             66676\n",
       "culture          66579\n",
       "travel           64880\n",
       "cooking          64756\n",
       "soccer           57783\n",
       "education        57436\n",
       "fitness          55323\n",
       "studying         54269\n",
       "dogs             52511\n",
       "tennis           50339\n",
       "veganism         49619\n",
       "public speaking  49264"
      ]
     },
     "execution_count": 42,
     "metadata": {},
     "output_type": "execute_result"
    }
   ],
   "source": [
    "sumDf.sort_values(by=['Score'], ascending=False)"
   ]
  },
  {
   "cell_type": "code",
   "execution_count": 43,
   "id": "7bb0bd68",
   "metadata": {},
   "outputs": [],
   "source": [
    "sumDf.to_csv('./Cleaned Data/sumDf.csv')"
   ]
  },
  {
   "cell_type": "code",
   "execution_count": 4,
   "id": "222548a0",
   "metadata": {},
   "outputs": [],
   "source": [
    "newDateTime = mergeDf['Datetime'].str.split(\" \", n = 1, expand = True)\n",
    "mergeDf['Date']= newDateTime[0]\n",
    "mergeDf['Time']= newDateTime[1]"
   ]
  },
  {
   "cell_type": "code",
   "execution_count": 6,
   "id": "bf3fabf9",
   "metadata": {},
   "outputs": [],
   "source": [
    "mergeDf = mergeDf.drop(['Datetime'], axis=1)"
   ]
  },
  {
   "cell_type": "code",
   "execution_count": 7,
   "id": "8f88f051",
   "metadata": {},
   "outputs": [
    {
     "data": {
      "text/html": [
       "<div>\n",
       "<style scoped>\n",
       "    .dataframe tbody tr th:only-of-type {\n",
       "        vertical-align: middle;\n",
       "    }\n",
       "\n",
       "    .dataframe tbody tr th {\n",
       "        vertical-align: top;\n",
       "    }\n",
       "\n",
       "    .dataframe thead th {\n",
       "        text-align: right;\n",
       "    }\n",
       "</style>\n",
       "<table border=\"1\" class=\"dataframe\">\n",
       "  <thead>\n",
       "    <tr style=\"text-align: right;\">\n",
       "      <th></th>\n",
       "      <th>Content ID</th>\n",
       "      <th>Reaction Type</th>\n",
       "      <th>Content Type</th>\n",
       "      <th>Category</th>\n",
       "      <th>Sentiment</th>\n",
       "      <th>Score</th>\n",
       "      <th>Date</th>\n",
       "      <th>Time</th>\n",
       "    </tr>\n",
       "  </thead>\n",
       "  <tbody>\n",
       "    <tr>\n",
       "      <th>0</th>\n",
       "      <td>97522e57-d9ab-4bd6-97bf-c24d952602d2</td>\n",
       "      <td>disgust</td>\n",
       "      <td>photo</td>\n",
       "      <td>studying</td>\n",
       "      <td>negative</td>\n",
       "      <td>0</td>\n",
       "      <td>07-11-2020</td>\n",
       "      <td>9.43</td>\n",
       "    </tr>\n",
       "    <tr>\n",
       "      <th>1</th>\n",
       "      <td>97522e57-d9ab-4bd6-97bf-c24d952602d2</td>\n",
       "      <td>disgust</td>\n",
       "      <td>photo</td>\n",
       "      <td>studying</td>\n",
       "      <td>negative</td>\n",
       "      <td>0</td>\n",
       "      <td>06-01-2021</td>\n",
       "      <td>19.13</td>\n",
       "    </tr>\n",
       "    <tr>\n",
       "      <th>2</th>\n",
       "      <td>97522e57-d9ab-4bd6-97bf-c24d952602d2</td>\n",
       "      <td>disgust</td>\n",
       "      <td>photo</td>\n",
       "      <td>studying</td>\n",
       "      <td>negative</td>\n",
       "      <td>0</td>\n",
       "      <td>09-04-2021</td>\n",
       "      <td>2.46</td>\n",
       "    </tr>\n",
       "    <tr>\n",
       "      <th>3</th>\n",
       "      <td>9f737e0a-3cdd-4d29-9d24-753f4e3be810</td>\n",
       "      <td>disgust</td>\n",
       "      <td>photo</td>\n",
       "      <td>healthy eating</td>\n",
       "      <td>negative</td>\n",
       "      <td>0</td>\n",
       "      <td>28-03-2021</td>\n",
       "      <td>21.15</td>\n",
       "    </tr>\n",
       "    <tr>\n",
       "      <th>4</th>\n",
       "      <td>230c4e4d-70c3-461d-b42c-ec09396efb3f</td>\n",
       "      <td>disgust</td>\n",
       "      <td>photo</td>\n",
       "      <td>healthy eating</td>\n",
       "      <td>negative</td>\n",
       "      <td>0</td>\n",
       "      <td>04-08-2020</td>\n",
       "      <td>5.40</td>\n",
       "    </tr>\n",
       "    <tr>\n",
       "      <th>...</th>\n",
       "      <td>...</td>\n",
       "      <td>...</td>\n",
       "      <td>...</td>\n",
       "      <td>...</td>\n",
       "      <td>...</td>\n",
       "      <td>...</td>\n",
       "      <td>...</td>\n",
       "      <td>...</td>\n",
       "    </tr>\n",
       "    <tr>\n",
       "      <th>24568</th>\n",
       "      <td>435007a5-6261-4d8b-b0a4-55fdc189754b</td>\n",
       "      <td>adore</td>\n",
       "      <td>audio</td>\n",
       "      <td>veganism</td>\n",
       "      <td>positive</td>\n",
       "      <td>72</td>\n",
       "      <td>04-10-2020</td>\n",
       "      <td>22.26</td>\n",
       "    </tr>\n",
       "    <tr>\n",
       "      <th>24569</th>\n",
       "      <td>435007a5-6261-4d8b-b0a4-55fdc189754b</td>\n",
       "      <td>adore</td>\n",
       "      <td>audio</td>\n",
       "      <td>veganism</td>\n",
       "      <td>positive</td>\n",
       "      <td>72</td>\n",
       "      <td>18-09-2020</td>\n",
       "      <td>10.50</td>\n",
       "    </tr>\n",
       "    <tr>\n",
       "      <th>24570</th>\n",
       "      <td>4e4c9690-c013-4ee7-9e66-943d8cbd27b7</td>\n",
       "      <td>adore</td>\n",
       "      <td>GIF</td>\n",
       "      <td>culture</td>\n",
       "      <td>positive</td>\n",
       "      <td>72</td>\n",
       "      <td>31-10-2020</td>\n",
       "      <td>3.58</td>\n",
       "    </tr>\n",
       "    <tr>\n",
       "      <th>24571</th>\n",
       "      <td>4e4c9690-c013-4ee7-9e66-943d8cbd27b7</td>\n",
       "      <td>adore</td>\n",
       "      <td>GIF</td>\n",
       "      <td>culture</td>\n",
       "      <td>positive</td>\n",
       "      <td>72</td>\n",
       "      <td>25-06-2020</td>\n",
       "      <td>15.12</td>\n",
       "    </tr>\n",
       "    <tr>\n",
       "      <th>24572</th>\n",
       "      <td>4e4c9690-c013-4ee7-9e66-943d8cbd27b7</td>\n",
       "      <td>adore</td>\n",
       "      <td>GIF</td>\n",
       "      <td>culture</td>\n",
       "      <td>positive</td>\n",
       "      <td>72</td>\n",
       "      <td>17-12-2020</td>\n",
       "      <td>16.32</td>\n",
       "    </tr>\n",
       "  </tbody>\n",
       "</table>\n",
       "<p>24573 rows × 8 columns</p>\n",
       "</div>"
      ],
      "text/plain": [
       "                                 Content ID Reaction Type Content Type  \\\n",
       "0      97522e57-d9ab-4bd6-97bf-c24d952602d2       disgust        photo   \n",
       "1      97522e57-d9ab-4bd6-97bf-c24d952602d2       disgust        photo   \n",
       "2      97522e57-d9ab-4bd6-97bf-c24d952602d2       disgust        photo   \n",
       "3      9f737e0a-3cdd-4d29-9d24-753f4e3be810       disgust        photo   \n",
       "4      230c4e4d-70c3-461d-b42c-ec09396efb3f       disgust        photo   \n",
       "...                                     ...           ...          ...   \n",
       "24568  435007a5-6261-4d8b-b0a4-55fdc189754b         adore        audio   \n",
       "24569  435007a5-6261-4d8b-b0a4-55fdc189754b         adore        audio   \n",
       "24570  4e4c9690-c013-4ee7-9e66-943d8cbd27b7         adore          GIF   \n",
       "24571  4e4c9690-c013-4ee7-9e66-943d8cbd27b7         adore          GIF   \n",
       "24572  4e4c9690-c013-4ee7-9e66-943d8cbd27b7         adore          GIF   \n",
       "\n",
       "             Category Sentiment  Score        Date   Time  \n",
       "0            studying  negative      0  07-11-2020   9.43  \n",
       "1            studying  negative      0  06-01-2021  19.13  \n",
       "2            studying  negative      0  09-04-2021   2.46  \n",
       "3      healthy eating  negative      0  28-03-2021  21.15  \n",
       "4      healthy eating  negative      0  04-08-2020   5.40  \n",
       "...               ...       ...    ...         ...    ...  \n",
       "24568        veganism  positive     72  04-10-2020  22.26  \n",
       "24569        veganism  positive     72  18-09-2020  10.50  \n",
       "24570         culture  positive     72  31-10-2020   3.58  \n",
       "24571         culture  positive     72  25-06-2020  15.12  \n",
       "24572         culture  positive     72  17-12-2020  16.32  \n",
       "\n",
       "[24573 rows x 8 columns]"
      ]
     },
     "execution_count": 7,
     "metadata": {},
     "output_type": "execute_result"
    }
   ],
   "source": [
    "mergeDf"
   ]
  },
  {
   "cell_type": "code",
   "execution_count": 8,
   "id": "e5217b6c",
   "metadata": {},
   "outputs": [],
   "source": [
    "mergeDf = mergeDf[['Content ID', 'Reaction Type', 'Date', 'Time', 'Content Type', 'Category', 'Sentiment', 'Score']]"
   ]
  },
  {
   "cell_type": "code",
   "execution_count": 9,
   "id": "cda0d20f",
   "metadata": {},
   "outputs": [
    {
     "data": {
      "text/html": [
       "<div>\n",
       "<style scoped>\n",
       "    .dataframe tbody tr th:only-of-type {\n",
       "        vertical-align: middle;\n",
       "    }\n",
       "\n",
       "    .dataframe tbody tr th {\n",
       "        vertical-align: top;\n",
       "    }\n",
       "\n",
       "    .dataframe thead th {\n",
       "        text-align: right;\n",
       "    }\n",
       "</style>\n",
       "<table border=\"1\" class=\"dataframe\">\n",
       "  <thead>\n",
       "    <tr style=\"text-align: right;\">\n",
       "      <th></th>\n",
       "      <th>Content ID</th>\n",
       "      <th>Reaction Type</th>\n",
       "      <th>Date</th>\n",
       "      <th>Time</th>\n",
       "      <th>Content Type</th>\n",
       "      <th>Category</th>\n",
       "      <th>Sentiment</th>\n",
       "      <th>Score</th>\n",
       "    </tr>\n",
       "  </thead>\n",
       "  <tbody>\n",
       "    <tr>\n",
       "      <th>0</th>\n",
       "      <td>97522e57-d9ab-4bd6-97bf-c24d952602d2</td>\n",
       "      <td>disgust</td>\n",
       "      <td>07-11-2020</td>\n",
       "      <td>9.43</td>\n",
       "      <td>photo</td>\n",
       "      <td>studying</td>\n",
       "      <td>negative</td>\n",
       "      <td>0</td>\n",
       "    </tr>\n",
       "    <tr>\n",
       "      <th>1</th>\n",
       "      <td>97522e57-d9ab-4bd6-97bf-c24d952602d2</td>\n",
       "      <td>disgust</td>\n",
       "      <td>06-01-2021</td>\n",
       "      <td>19.13</td>\n",
       "      <td>photo</td>\n",
       "      <td>studying</td>\n",
       "      <td>negative</td>\n",
       "      <td>0</td>\n",
       "    </tr>\n",
       "    <tr>\n",
       "      <th>2</th>\n",
       "      <td>97522e57-d9ab-4bd6-97bf-c24d952602d2</td>\n",
       "      <td>disgust</td>\n",
       "      <td>09-04-2021</td>\n",
       "      <td>2.46</td>\n",
       "      <td>photo</td>\n",
       "      <td>studying</td>\n",
       "      <td>negative</td>\n",
       "      <td>0</td>\n",
       "    </tr>\n",
       "    <tr>\n",
       "      <th>3</th>\n",
       "      <td>9f737e0a-3cdd-4d29-9d24-753f4e3be810</td>\n",
       "      <td>disgust</td>\n",
       "      <td>28-03-2021</td>\n",
       "      <td>21.15</td>\n",
       "      <td>photo</td>\n",
       "      <td>healthy eating</td>\n",
       "      <td>negative</td>\n",
       "      <td>0</td>\n",
       "    </tr>\n",
       "    <tr>\n",
       "      <th>4</th>\n",
       "      <td>230c4e4d-70c3-461d-b42c-ec09396efb3f</td>\n",
       "      <td>disgust</td>\n",
       "      <td>04-08-2020</td>\n",
       "      <td>5.40</td>\n",
       "      <td>photo</td>\n",
       "      <td>healthy eating</td>\n",
       "      <td>negative</td>\n",
       "      <td>0</td>\n",
       "    </tr>\n",
       "    <tr>\n",
       "      <th>...</th>\n",
       "      <td>...</td>\n",
       "      <td>...</td>\n",
       "      <td>...</td>\n",
       "      <td>...</td>\n",
       "      <td>...</td>\n",
       "      <td>...</td>\n",
       "      <td>...</td>\n",
       "      <td>...</td>\n",
       "    </tr>\n",
       "    <tr>\n",
       "      <th>24568</th>\n",
       "      <td>435007a5-6261-4d8b-b0a4-55fdc189754b</td>\n",
       "      <td>adore</td>\n",
       "      <td>04-10-2020</td>\n",
       "      <td>22.26</td>\n",
       "      <td>audio</td>\n",
       "      <td>veganism</td>\n",
       "      <td>positive</td>\n",
       "      <td>72</td>\n",
       "    </tr>\n",
       "    <tr>\n",
       "      <th>24569</th>\n",
       "      <td>435007a5-6261-4d8b-b0a4-55fdc189754b</td>\n",
       "      <td>adore</td>\n",
       "      <td>18-09-2020</td>\n",
       "      <td>10.50</td>\n",
       "      <td>audio</td>\n",
       "      <td>veganism</td>\n",
       "      <td>positive</td>\n",
       "      <td>72</td>\n",
       "    </tr>\n",
       "    <tr>\n",
       "      <th>24570</th>\n",
       "      <td>4e4c9690-c013-4ee7-9e66-943d8cbd27b7</td>\n",
       "      <td>adore</td>\n",
       "      <td>31-10-2020</td>\n",
       "      <td>3.58</td>\n",
       "      <td>GIF</td>\n",
       "      <td>culture</td>\n",
       "      <td>positive</td>\n",
       "      <td>72</td>\n",
       "    </tr>\n",
       "    <tr>\n",
       "      <th>24571</th>\n",
       "      <td>4e4c9690-c013-4ee7-9e66-943d8cbd27b7</td>\n",
       "      <td>adore</td>\n",
       "      <td>25-06-2020</td>\n",
       "      <td>15.12</td>\n",
       "      <td>GIF</td>\n",
       "      <td>culture</td>\n",
       "      <td>positive</td>\n",
       "      <td>72</td>\n",
       "    </tr>\n",
       "    <tr>\n",
       "      <th>24572</th>\n",
       "      <td>4e4c9690-c013-4ee7-9e66-943d8cbd27b7</td>\n",
       "      <td>adore</td>\n",
       "      <td>17-12-2020</td>\n",
       "      <td>16.32</td>\n",
       "      <td>GIF</td>\n",
       "      <td>culture</td>\n",
       "      <td>positive</td>\n",
       "      <td>72</td>\n",
       "    </tr>\n",
       "  </tbody>\n",
       "</table>\n",
       "<p>24573 rows × 8 columns</p>\n",
       "</div>"
      ],
      "text/plain": [
       "                                 Content ID Reaction Type        Date   Time  \\\n",
       "0      97522e57-d9ab-4bd6-97bf-c24d952602d2       disgust  07-11-2020   9.43   \n",
       "1      97522e57-d9ab-4bd6-97bf-c24d952602d2       disgust  06-01-2021  19.13   \n",
       "2      97522e57-d9ab-4bd6-97bf-c24d952602d2       disgust  09-04-2021   2.46   \n",
       "3      9f737e0a-3cdd-4d29-9d24-753f4e3be810       disgust  28-03-2021  21.15   \n",
       "4      230c4e4d-70c3-461d-b42c-ec09396efb3f       disgust  04-08-2020   5.40   \n",
       "...                                     ...           ...         ...    ...   \n",
       "24568  435007a5-6261-4d8b-b0a4-55fdc189754b         adore  04-10-2020  22.26   \n",
       "24569  435007a5-6261-4d8b-b0a4-55fdc189754b         adore  18-09-2020  10.50   \n",
       "24570  4e4c9690-c013-4ee7-9e66-943d8cbd27b7         adore  31-10-2020   3.58   \n",
       "24571  4e4c9690-c013-4ee7-9e66-943d8cbd27b7         adore  25-06-2020  15.12   \n",
       "24572  4e4c9690-c013-4ee7-9e66-943d8cbd27b7         adore  17-12-2020  16.32   \n",
       "\n",
       "      Content Type        Category Sentiment  Score  \n",
       "0            photo        studying  negative      0  \n",
       "1            photo        studying  negative      0  \n",
       "2            photo        studying  negative      0  \n",
       "3            photo  healthy eating  negative      0  \n",
       "4            photo  healthy eating  negative      0  \n",
       "...            ...             ...       ...    ...  \n",
       "24568        audio        veganism  positive     72  \n",
       "24569        audio        veganism  positive     72  \n",
       "24570          GIF         culture  positive     72  \n",
       "24571          GIF         culture  positive     72  \n",
       "24572          GIF         culture  positive     72  \n",
       "\n",
       "[24573 rows x 8 columns]"
      ]
     },
     "execution_count": 9,
     "metadata": {},
     "output_type": "execute_result"
    }
   ],
   "source": [
    "mergeDf"
   ]
  },
  {
   "cell_type": "code",
   "execution_count": 10,
   "id": "05a3e060",
   "metadata": {},
   "outputs": [],
   "source": [
    "mergeDf.to_csv('./Cleaned Data/mergeDf.csv')"
   ]
  }
 ],
 "metadata": {
  "kernelspec": {
   "display_name": "Python 3 (ipykernel)",
   "language": "python",
   "name": "python3"
  },
  "language_info": {
   "codemirror_mode": {
    "name": "ipython",
    "version": 3
   },
   "file_extension": ".py",
   "mimetype": "text/x-python",
   "name": "python",
   "nbconvert_exporter": "python",
   "pygments_lexer": "ipython3",
   "version": "3.11.3"
  },
  "widgets": {
   "application/vnd.jupyter.widget-state+json": {
    "state": {},
    "version_major": 2,
    "version_minor": 0
   }
  }
 },
 "nbformat": 4,
 "nbformat_minor": 5
}
